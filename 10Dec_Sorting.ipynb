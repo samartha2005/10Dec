{
 "cells": [
  {
   "cell_type": "code",
   "execution_count": null,
   "id": "7b68ed73-a841-4d62-bbd2-b5d18778fc89",
   "metadata": {},
   "outputs": [],
   "source": [
    "# Sorting Assignment"
   ]
  },
  {
   "cell_type": "code",
   "execution_count": 1,
   "id": "1b5c4e0a-08ba-4b2d-8db6-16d11664acbc",
   "metadata": {},
   "outputs": [
    {
     "name": "stdout",
     "output_type": "stream",
     "text": [
      "Element appearing maximum number of times: 4\n"
     ]
    }
   ],
   "source": [
    "'''1.Given an array of n numbers, give an algorithm which gives the element appearing maximum\n",
    "number of times?'''\n",
    "\n",
    "\n",
    "# code\n",
    "def find_max_occurrence(arr):\n",
    "    # Create a dictionary to store the count of each element\n",
    "    element_count = {}\n",
    "\n",
    "    # Iterate through the array and count occurrences\n",
    "    for element in arr:\n",
    "        if element in element_count:\n",
    "            element_count[element] += 1\n",
    "        else:\n",
    "            element_count[element] = 1\n",
    "\n",
    "    # Find the element with the maximum count\n",
    "    max_element = max(element_count, key=element_count.get)\n",
    "\n",
    "    return max_element\n",
    "\n",
    "# Example usage:\n",
    "arr = [1, 2, 3, 4, 2, 2, 3, 1, 4, 4, 4]\n",
    "result = find_max_occurrence(arr)\n",
    "print(\"Element appearing maximum number of times:\", result)\n"
   ]
  },
  {
   "cell_type": "code",
   "execution_count": 2,
   "id": "114d9463-eedb-4186-89f7-5a828a5ea8e6",
   "metadata": {},
   "outputs": [
    {
     "name": "stdout",
     "output_type": "stream",
     "text": [
      "Missing element: 5\n"
     ]
    }
   ],
   "source": [
    "'''2.We are given a list of n-1 integers and these integers are in the range of 1 to n . There are no\n",
    "duplicates in the list. One of the integers is missing in the list. Give an algorithm to find that element Ex:\n",
    "[1,2,4,6,3,7,8] 5 is the missing num.'''\n",
    "\n",
    "# Code\n",
    "def find_missing_element(arr):\n",
    "    n = len(arr) + 1  # n is the total number of elements including the missing one\n",
    "    expected_sum = (n * (n + 1)) // 2  # Sum of integers from 1 to n\n",
    "\n",
    "    actual_sum = sum(arr)  # Sum of the given list\n",
    "\n",
    "    missing_element = expected_sum - actual_sum\n",
    "\n",
    "    return missing_element\n",
    "\n",
    "# Example usage:\n",
    "arr = [1, 2, 4, 6, 3, 7, 8]\n",
    "missing_num = find_missing_element(arr)\n",
    "print(\"Missing element:\", missing_num)\n"
   ]
  },
  {
   "cell_type": "code",
   "execution_count": 3,
   "id": "cb1eeb5a-59a3-4e49-a506-07b82cd9b3db",
   "metadata": {},
   "outputs": [
    {
     "name": "stdout",
     "output_type": "stream",
     "text": [
      "Number occurring odd number of times: 3\n"
     ]
    }
   ],
   "source": [
    "'''3.Given an array of n positive numbers. All numbers occurs even number of times except 1 which\n",
    "occurs odd number of times. Find that number in O(n) time and O(1) space. Ex: [1,2,3,2,3,1,3]. 3 is repeats odd\n",
    "times.'''\n",
    "\n",
    "# Code\n",
    "def find_odd_occurrence(arr):\n",
    "    result = 0\n",
    "\n",
    "    for num in arr:\n",
    "        result ^= num\n",
    "\n",
    "    return result\n",
    "\n",
    "# Example usage:\n",
    "arr = [1, 2, 3, 2, 3, 1, 3]\n",
    "result = find_odd_occurrence(arr)\n",
    "print(\"Number occurring odd number of times:\", result)\n"
   ]
  },
  {
   "cell_type": "code",
   "execution_count": 4,
   "id": "3f3c33ef-f9c0-426c-bafb-a1de1a74afaf",
   "metadata": {},
   "outputs": [
    {
     "name": "stdout",
     "output_type": "stream",
     "text": [
      "Pair with sum 10: (1, 9)\n"
     ]
    }
   ],
   "source": [
    "'''4.Given an array of n elements. Find two elements in the array such that their sum is equal to given\n",
    "element K.'''\n",
    "\n",
    "# Code\n",
    "def find_pair_with_sum(arr, target_sum):\n",
    "    # Sort the array\n",
    "    arr.sort()\n",
    "\n",
    "    # Initialize two pointers\n",
    "    left = 0\n",
    "    right = len(arr) - 1\n",
    "\n",
    "    while left < right:\n",
    "        current_sum = arr[left] + arr[right]\n",
    "\n",
    "        if current_sum == target_sum:\n",
    "            return arr[left], arr[right]\n",
    "        elif current_sum < target_sum:\n",
    "            left += 1\n",
    "        else:\n",
    "            right -= 1\n",
    "\n",
    "    return None  # If no such pair is found\n",
    "\n",
    "# Example usage:\n",
    "arr = [1, 2, 3, 4, 5, 6, 7, 8, 9]\n",
    "target_sum = 10\n",
    "pair = find_pair_with_sum(arr, target_sum)\n",
    "\n",
    "if pair:\n",
    "    print(f\"Pair with sum {target_sum}: {pair}\")\n",
    "else:\n",
    "    print(f\"No pair found with sum {target_sum}\")"
   ]
  },
  {
   "cell_type": "code",
   "execution_count": 5,
   "id": "61943d48-1093-4301-af4d-68a8691325bf",
   "metadata": {},
   "outputs": [
    {
     "name": "stdout",
     "output_type": "stream",
     "text": [
      "Pair with sum closest to 0: (-80, 85)\n"
     ]
    }
   ],
   "source": [
    "'''5.Given an array of both positive and negative numbers, find two numbers such that their sum is\n",
    "closest to 0. Ex: [ 1 ,60 ,-10, 70, -80,85]. Ans : -80,85.'''\n",
    "\n",
    "# Code\n",
    "def find_closest_to_zero(arr):\n",
    "    # Sort the array\n",
    "    arr.sort()\n",
    "\n",
    "    # Initialize two pointers\n",
    "    left = 0\n",
    "    right = len(arr) - 1\n",
    "\n",
    "    # Initialize variables to track the closest sum and the pair\n",
    "    closest_sum = float('inf')\n",
    "    closest_pair = None\n",
    "\n",
    "    while left < right:\n",
    "        current_sum = arr[left] + arr[right]\n",
    "        current_diff = abs(current_sum)\n",
    "\n",
    "        # Update closest pair if the current pair is closer to 0\n",
    "        if current_diff < closest_sum:\n",
    "            closest_sum = current_diff\n",
    "            closest_pair = (arr[left], arr[right])\n",
    "\n",
    "        # Move pointers based on the comparison of the current sum with 0\n",
    "        if current_sum < 0:\n",
    "            left += 1\n",
    "        elif current_sum > 0:\n",
    "            right -= 1\n",
    "        else:\n",
    "            return closest_pair  # If sum is exactly 0, return the pair\n",
    "\n",
    "    return closest_pair\n",
    "\n",
    "# Example usage:\n",
    "arr = [1, 60, -10, 70, -80, 85]\n",
    "result = find_closest_to_zero(arr)\n",
    "print(\"Pair with sum closest to 0:\", result)\n"
   ]
  },
  {
   "cell_type": "code",
   "execution_count": 6,
   "id": "fbe5f1d6-9821-40f0-baf3-0e209b64ce4f",
   "metadata": {},
   "outputs": [
    {
     "name": "stdout",
     "output_type": "stream",
     "text": [
      "Triplet with sum 21: (4, 8, 9)\n"
     ]
    }
   ],
   "source": [
    "'''6.Given an array of n elements . Find three elements such that their sum is equal to the given\n",
    "number.'''\n",
    "\n",
    "# Code\n",
    "def find_triplet_with_sum(arr, target_sum):\n",
    "    arr.sort()\n",
    "\n",
    "    for i in range(len(arr) - 2):\n",
    "        left = i + 1\n",
    "        right = len(arr) - 1\n",
    "\n",
    "        while left < right:\n",
    "            current_sum = arr[i] + arr[left] + arr[right]\n",
    "\n",
    "            if current_sum == target_sum:\n",
    "                return arr[i], arr[left], arr[right]\n",
    "            elif current_sum < target_sum:\n",
    "                left += 1\n",
    "            else:\n",
    "                right -= 1\n",
    "\n",
    "    return None  # If no such triplet is found\n",
    "\n",
    "# Example usage:\n",
    "arr = [1, 2, 3, 4, 5, 6, 7, 8, 9]\n",
    "target_sum = 21\n",
    "triplet = find_triplet_with_sum(arr, target_sum)\n",
    "\n",
    "if triplet:\n",
    "    print(f\"Triplet with sum {target_sum}: {triplet}\")\n",
    "else:\n",
    "    print(f\"No triplet found with sum {target_sum}\")\n"
   ]
  },
  {
   "cell_type": "code",
   "execution_count": 7,
   "id": "d957857d-c340-4930-b3a4-f838ea984523",
   "metadata": {},
   "outputs": [
    {
     "name": "stdout",
     "output_type": "stream",
     "text": [
      "Pythagorean Triplet: (1, 4, 6)\n"
     ]
    }
   ],
   "source": [
    "'''7.Given an array of n elements . Find three elements i, j, k in the array such that\n",
    "i * i + j * j = k*k.'''\n",
    "\n",
    "# Code\n",
    "def find_pythagorean_triplet(arr):\n",
    "    n = len(arr)\n",
    "    \n",
    "    # Square all elements in the array\n",
    "    arr_squared = [x * x for x in arr]\n",
    "    \n",
    "    # Sort the squared array\n",
    "    arr_squared.sort()\n",
    "\n",
    "    for k in range(n - 1, 1, -1):\n",
    "        i = 0\n",
    "        j = k - 1\n",
    "\n",
    "        while i < j:\n",
    "            current_sum = arr_squared[i] + arr_squared[j]\n",
    "\n",
    "            if current_sum == arr_squared[k]:\n",
    "                return (arr[i], arr[j], arr[k])\n",
    "            elif current_sum < arr_squared[k]:\n",
    "                i += 1\n",
    "            else:\n",
    "                j -= 1\n",
    "\n",
    "    return None  # If no such triplet is found\n",
    "\n",
    "# Example usage:\n",
    "arr = [3, 1, 4, 6, 5]\n",
    "triplet = find_pythagorean_triplet(arr)\n",
    "\n",
    "if triplet:\n",
    "    print(\"Pythagorean Triplet:\", triplet)\n",
    "else:\n",
    "    print(\"No Pythagorean Triplet found.\")\n"
   ]
  },
  {
   "cell_type": "code",
   "execution_count": 8,
   "id": "320f71d5-64ed-48e2-bea6-86a572e2f7a0",
   "metadata": {},
   "outputs": [
    {
     "name": "stdout",
     "output_type": "stream",
     "text": [
      "Majority Element: 4\n"
     ]
    }
   ],
   "source": [
    "'''8.An element is a majority if it appears more than n/2 times. Give an algorithm takes an array of n\n",
    "element as argument and identifies a majority (if it exists).'''\n",
    "\n",
    "# Code\n",
    "def find_majority_element(arr):\n",
    "    candidate = None\n",
    "    count = 0\n",
    "\n",
    "    for num in arr:\n",
    "        if count == 0:\n",
    "            candidate = num\n",
    "            count = 1\n",
    "        elif candidate == num:\n",
    "            count += 1\n",
    "        else:\n",
    "            count -= 1\n",
    "\n",
    "    # Check if the candidate is a majority element\n",
    "    if arr.count(candidate) > len(arr) // 2:\n",
    "        return candidate\n",
    "    else:\n",
    "        return None  # No majority element found\n",
    "\n",
    "# Example usage:\n",
    "arr = [3, 3, 4, 2, 4, 4, 2, 4, 4]\n",
    "majority_element = find_majority_element(arr)\n",
    "\n",
    "if majority_element:\n",
    "    print(\"Majority Element:\", majority_element)\n",
    "else:\n",
    "    print(\"No Majority Element found.\")\n"
   ]
  },
  {
   "cell_type": "code",
   "execution_count": 10,
   "id": "842a4715-f277-494a-b39f-3d1d726979e3",
   "metadata": {},
   "outputs": [
    {
     "name": "stdout",
     "output_type": "stream",
     "text": [
      "Row with maximum number of 0's: 4\n"
     ]
    }
   ],
   "source": [
    "'''9.: Given n × n matrix, and in each row all 1’s are followed by 0’s. Find the row with the maximum\n",
    "number of 0’s.'''\n",
    "\n",
    "# Code\n",
    "def find_max_zeros_row(matrix):\n",
    "    max_zeros_row = -1\n",
    "    max_zeros_count = -1\n",
    "\n",
    "    for i, row in enumerate(matrix):\n",
    "        zeros_count = row.count(0)\n",
    "        \n",
    "        if zeros_count > max_zeros_count:\n",
    "            max_zeros_row = i\n",
    "            max_zeros_count = zeros_count\n",
    "\n",
    "    return max_zeros_row\n",
    "\n",
    "# Example usage:\n",
    "matrix = [\n",
    "    [1, 1, 1, 0, 0],\n",
    "    [1, 1, 0, 0, 0],\n",
    "    [1, 1, 1, 1, 0],\n",
    "    [1, 1, 1, 0, 0],\n",
    "    [1, 0, 0, 0, 0]\n",
    "]\n",
    "\n",
    "result = find_max_zeros_row(matrix)\n",
    "print(\"Row with maximum number of 0's:\", result)\n",
    "\n"
   ]
  },
  {
   "cell_type": "code",
   "execution_count": 11,
   "id": "50c06d08-d328-4939-b65d-a88e0290a5bf",
   "metadata": {},
   "outputs": [
    {
     "name": "stdout",
     "output_type": "stream",
     "text": [
      "Sorted array: [0, 0, 0, 0, 0, 1, 1, 1, 1, 1, 2, 2]\n"
     ]
    }
   ],
   "source": [
    "'''10.Sort an array of 0’s, 1’s and 2’s [or R’s, G’s and B’s]: Given an array A[] consisting of 0’s, 1’s and\n",
    "2’s, give an algorithm for sorting A[].The algorithm should put all 0’s first, then all 1’s and finally all 2’s at the\n",
    "end. Example Input = {0,1,1,0,1,2,1,2,0,0,0,1}, Output = {0,0,0,0,0,1,1,1,1,1,2,2}'''\n",
    "\n",
    "# Code\n",
    "def sort_colors(arr):\n",
    "    low, mid, high = 0, 0, len(arr) - 1\n",
    "\n",
    "    while mid <= high:\n",
    "        if arr[mid] == 0:\n",
    "            arr[low], arr[mid] = arr[mid], arr[low]\n",
    "            low += 1\n",
    "            mid += 1\n",
    "        elif arr[mid] == 1:\n",
    "            mid += 1\n",
    "        else:\n",
    "            arr[mid], arr[high] = arr[high], arr[mid]\n",
    "            high -= 1\n",
    "\n",
    "# Example usage:\n",
    "arr = [0, 1, 1, 0, 1, 2, 1, 2, 0, 0, 0, 1]\n",
    "sort_colors(arr)\n",
    "print(\"Sorted array:\", arr)\n"
   ]
  },
  {
   "cell_type": "code",
   "execution_count": null,
   "id": "07edff90-522d-4db5-960b-c736b0e9f538",
   "metadata": {},
   "outputs": [],
   "source": []
  }
 ],
 "metadata": {
  "kernelspec": {
   "display_name": "Python 3 (ipykernel)",
   "language": "python",
   "name": "python3"
  },
  "language_info": {
   "codemirror_mode": {
    "name": "ipython",
    "version": 3
   },
   "file_extension": ".py",
   "mimetype": "text/x-python",
   "name": "python",
   "nbconvert_exporter": "python",
   "pygments_lexer": "ipython3",
   "version": "3.10.8"
  }
 },
 "nbformat": 4,
 "nbformat_minor": 5
}
